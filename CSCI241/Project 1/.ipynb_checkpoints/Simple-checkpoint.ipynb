{
 "cells": [
  {
   "cell_type": "code",
   "execution_count": null,
   "metadata": {},
   "outputs": [],
   "source": [
    "import random\n",
    "import time\n",
    "\n",
    "def insertion_sort(arr):\n",
    "    for k in range(1, len(arr)):\n",
    "        cur = arr[k]\n",
    "        j = k\n",
    "        while j > 0 and arr[j-1] > cur:\n",
    "            arr[j] = arr[j-1]\n",
    "            j = j - 1\n",
    "        arr[j] = cur\n",
    "        \n",
    "def selection_sort(arr):\n",
    "    for k in range(len(arr)):\n",
    "        min_arr = k \n",
    "        j = k \n",
    "        while j+1 in range(len(arr)):\n",
    "            j = j+1\n",
    "            if arr[min_arr] > arr[j]:\n",
    "                min_arr = j \n",
    "\n",
    "        temp = arr[k]\n",
    "        arr[k] = arr[min_arr]\n",
    "        arr[min_arr] = temp\n",
    "        "
   ]
  },
  {
   "cell_type": "code",
   "execution_count": null,
   "metadata": {},
   "outputs": [],
   "source": [
    "if __name__ == '__main__':\n",
    "    \n",
    "    for a in [1000, 2500, 5000, 7500, 10000]:\n",
    "        \n",
    "        arr_ran= random.sample(range(1,1000000), a)\n",
    "        arr_inc = [i for i in range(a+1)]\n",
    "        arr_dec = [i for i in range(a+1,0,-1)]\n",
    "    "
   ]
  },
  {
   "cell_type": "code",
   "execution_count": null,
   "metadata": {},
   "outputs": [],
   "source": [
    "for a in [1000, 2500, 5000, 7500, 10000]:\n",
    "    \n",
    "    arr_ran= [random.randint(0, 100) for x in range(1, a+1)]\n",
    "    arr_inc = [i for i in range(1, a+1)]\n",
    "    arr_dec = [i for i in range(a,0,-1)]\n",
    "    \n",
    "   # print(arr_ran)\n",
    "    \n",
    "    start_ran_ins = time.process_time() \n",
    "    insertion_sort(arr_ran)\n",
    "    end_ran_ins = time.process_time()\n",
    "    \n",
    "    start_ran_sel = time.process_time() \n",
    "    selection_sort(arr_ran)\n",
    "    end_ran_sel = time.process_time()\n",
    "    \n",
    "    start_inc_ins = time.process_time() \n",
    "    insertion_sort(arr_inc)\n",
    "    end_inc_ins = time.process_time()\n",
    "    \n",
    "    start_inc_sel = time.process_time() \n",
    "    selection_sort(arr_inc)\n",
    "    end_inc_sel = time.process_time()\n",
    "    \n",
    "    start_dec_ins = time.process_time() \n",
    "    insertion_sort(arr_dec)\n",
    "    end_dec_ins = time.process_time()\n",
    "    \n",
    "    start_dec_sel = time.process_time() \n",
    "    selection_sort(arr_dec)\n",
    "    end_dec_sel = time.process_time()\n",
    "    \n",
    "    if a == 1000:\n",
    "        name = 'One Thousand '\n",
    "    elif a == 2500:\n",
    "        name = 'Two Thousands and Five Hundreds '\n",
    "    elif a == 5000:\n",
    "        name = 'Five Thousands '\n",
    "    elif a == 7500:\n",
    "        name = 'Seven Thousands and Five Hundreds '\n",
    "    else:\n",
    "        name = 'Ten Thousands '\n",
    "    \n",
    "    print( name + 'Increasing Insertion for Random Values: ' + '{:.6f}'.format(end_ran_ins-start_ran_ins))\n",
    "    print( name + 'Increasing Selection for Random Values: ' + '{:.6f}'.format(end_ran_sel-start_ran_sel))\n",
    "    print( name + 'Increasing Insertion for Increasing Values: ' + '{:.6f}'.format(end_inc_ins-start_inc_ins))\n",
    "    print( name + 'Increasing Selection for Increasing Values: ' + '{:.6f}'.format(end_inc_sel-start_inc_sel))\n",
    "    print( name + 'Increasing Insertion for Decreasing Values: ' + '{:.6f}'.format(end_dec_ins-start_dec_ins))\n",
    "    print( name + 'Increasing Selection for Decreasing Values: ' + '{:.6f}'.format(end_dec_sel-start_dec_sel))\n",
    "    \n",
    "    #print(arr_ran)"
   ]
  },
  {
   "cell_type": "code",
   "execution_count": null,
   "metadata": {},
   "outputs": [],
   "source": [
    "print(arr_ran)"
   ]
  },
  {
   "cell_type": "code",
   "execution_count": null,
   "metadata": {},
   "outputs": [],
   "source": []
  }
 ],
 "metadata": {
  "kernelspec": {
   "display_name": "Python 3",
   "language": "python",
   "name": "python3"
  },
  "language_info": {
   "codemirror_mode": {
    "name": "ipython",
    "version": 3
   },
   "file_extension": ".py",
   "mimetype": "text/x-python",
   "name": "python",
   "nbconvert_exporter": "python",
   "pygments_lexer": "ipython3",
   "version": "3.7.1"
  }
 },
 "nbformat": 4,
 "nbformat_minor": 2
}
